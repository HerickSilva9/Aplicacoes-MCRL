{
 "cells": [
  {
   "cell_type": "markdown",
   "metadata": {},
   "source": [
    "# Aplicações do Modelo Clássico de Regressão Linear"
   ]
  },
  {
   "cell_type": "code",
   "execution_count": 1,
   "metadata": {},
   "outputs": [],
   "source": [
    "# Importando bibliotecas\n",
    "import pandas as pd\n",
    "import seaborn as sn\n",
    "import numpy as np\n",
    "from patsy import dmatrices\n",
    "import statsmodels.api as sm\n",
    "import matplotlib.pyplot as plt\n",
    "import statsmodels.stats.api as sms\n",
    "from statsmodels.compat import lzip\n",
    "import statsmodels.formula.api as smf\n",
    "import statsmodels.stats.diagnostic as dg\n",
    "from statsmodels.stats.outliers_influence import variance_inflation_factor"
   ]
  },
  {
   "cell_type": "code",
   "execution_count": 2,
   "metadata": {},
   "outputs": [
    {
     "name": "stdout",
     "output_type": "stream",
     "text": [
      "<class 'pandas.core.frame.DataFrame'>\n",
      "RangeIndex: 10 entries, 0 to 9\n",
      "Data columns (total 5 columns):\n",
      " #   Column       Non-Null Count  Dtype\n",
      "---  ------       --------------  -----\n",
      " 0   Sal          10 non-null     int8 \n",
      " 1   Exp          10 non-null     int8 \n",
      " 2   CursoCap     10 non-null     int8 \n",
      " 3   DummyMulher  10 non-null     int8 \n",
      " 4   Posgrad      10 non-null     int8 \n",
      "dtypes: int8(5)\n",
      "memory usage: 182.0 bytes\n"
     ]
    },
    {
     "data": {
      "text/html": [
       "<div>\n",
       "<style scoped>\n",
       "    .dataframe tbody tr th:only-of-type {\n",
       "        vertical-align: middle;\n",
       "    }\n",
       "\n",
       "    .dataframe tbody tr th {\n",
       "        vertical-align: top;\n",
       "    }\n",
       "\n",
       "    .dataframe thead th {\n",
       "        text-align: right;\n",
       "    }\n",
       "</style>\n",
       "<table border=\"1\" class=\"dataframe\">\n",
       "  <thead>\n",
       "    <tr style=\"text-align: right;\">\n",
       "      <th></th>\n",
       "      <th>Sal</th>\n",
       "      <th>Exp</th>\n",
       "      <th>CursoCap</th>\n",
       "      <th>DummyMulher</th>\n",
       "      <th>Posgrad</th>\n",
       "    </tr>\n",
       "  </thead>\n",
       "  <tbody>\n",
       "    <tr>\n",
       "      <th>0</th>\n",
       "      <td>15</td>\n",
       "      <td>8</td>\n",
       "      <td>0</td>\n",
       "      <td>0</td>\n",
       "      <td>1</td>\n",
       "    </tr>\n",
       "    <tr>\n",
       "      <th>1</th>\n",
       "      <td>20</td>\n",
       "      <td>6</td>\n",
       "      <td>1</td>\n",
       "      <td>0</td>\n",
       "      <td>2</td>\n",
       "    </tr>\n",
       "    <tr>\n",
       "      <th>2</th>\n",
       "      <td>20</td>\n",
       "      <td>15</td>\n",
       "      <td>0</td>\n",
       "      <td>0</td>\n",
       "      <td>2</td>\n",
       "    </tr>\n",
       "    <tr>\n",
       "      <th>3</th>\n",
       "      <td>40</td>\n",
       "      <td>20</td>\n",
       "      <td>1</td>\n",
       "      <td>1</td>\n",
       "      <td>3</td>\n",
       "    </tr>\n",
       "    <tr>\n",
       "      <th>4</th>\n",
       "      <td>50</td>\n",
       "      <td>25</td>\n",
       "      <td>2</td>\n",
       "      <td>1</td>\n",
       "      <td>3</td>\n",
       "    </tr>\n",
       "    <tr>\n",
       "      <th>5</th>\n",
       "      <td>25</td>\n",
       "      <td>11</td>\n",
       "      <td>1</td>\n",
       "      <td>0</td>\n",
       "      <td>2</td>\n",
       "    </tr>\n",
       "    <tr>\n",
       "      <th>6</th>\n",
       "      <td>10</td>\n",
       "      <td>5</td>\n",
       "      <td>0</td>\n",
       "      <td>0</td>\n",
       "      <td>1</td>\n",
       "    </tr>\n",
       "    <tr>\n",
       "      <th>7</th>\n",
       "      <td>55</td>\n",
       "      <td>32</td>\n",
       "      <td>3</td>\n",
       "      <td>1</td>\n",
       "      <td>1</td>\n",
       "    </tr>\n",
       "    <tr>\n",
       "      <th>8</th>\n",
       "      <td>35</td>\n",
       "      <td>28</td>\n",
       "      <td>1</td>\n",
       "      <td>0</td>\n",
       "      <td>2</td>\n",
       "    </tr>\n",
       "    <tr>\n",
       "      <th>9</th>\n",
       "      <td>30</td>\n",
       "      <td>20</td>\n",
       "      <td>1</td>\n",
       "      <td>0</td>\n",
       "      <td>2</td>\n",
       "    </tr>\n",
       "  </tbody>\n",
       "</table>\n",
       "</div>"
      ],
      "text/plain": [
       "   Sal  Exp  CursoCap  DummyMulher  Posgrad\n",
       "0   15    8         0            0        1\n",
       "1   20    6         1            0        2\n",
       "2   20   15         0            0        2\n",
       "3   40   20         1            1        3\n",
       "4   50   25         2            1        3\n",
       "5   25   11         1            0        2\n",
       "6   10    5         0            0        1\n",
       "7   55   32         3            1        1\n",
       "8   35   28         1            0        2\n",
       "9   30   20         1            0        2"
      ]
     },
     "execution_count": 2,
     "metadata": {},
     "output_type": "execute_result"
    }
   ],
   "source": [
    "# Leitura e tratamento da base de dados\n",
    "df = pd.read_stata('salario_stata11.dta')\n",
    "\n",
    "# Convertendo tipos e visualizando dados\n",
    "df = df.astype({\n",
    "    'Sal':          'int8',\n",
    "    'Exp':          'int8',\n",
    "    'CursoCap':     'int8',\n",
    "    'DummyMulher':  'int8',\n",
    "    'Posgrad':      'int8'\n",
    "})\n",
    "df.info()\n",
    "df"
   ]
  },
  {
   "cell_type": "markdown",
   "metadata": {},
   "source": [
    "## Modelo de regressão"
   ]
  },
  {
   "cell_type": "code",
   "execution_count": 3,
   "metadata": {},
   "outputs": [
    {
     "name": "stdout",
     "output_type": "stream",
     "text": [
      "                            OLS Regression Results                            \n",
      "==============================================================================\n",
      "Dep. Variable:                    Sal   R-squared:                       0.997\n",
      "Model:                            OLS   Adj. R-squared:                  0.994\n",
      "Method:                 Least Squares   F-statistic:                     374.9\n",
      "Date:                Mon, 18 Nov 2024   Prob (F-statistic):           2.22e-06\n",
      "Time:                        19:17:01   Log-Likelihood:                -12.146\n",
      "No. Observations:                  10   AIC:                             34.29\n",
      "Df Residuals:                       5   BIC:                             35.81\n",
      "Df Model:                           4                                         \n",
      "Covariance Type:            nonrobust                                         \n",
      "===============================================================================\n",
      "                  coef    std err          t      P>|t|      [0.025      0.975]\n",
      "-------------------------------------------------------------------------------\n",
      "Intercept       5.3996      1.282      4.211      0.008       2.103       8.696\n",
      "Exp             0.6593      0.064     10.361      0.000       0.496       0.823\n",
      "CursoCap        6.1732      0.751      8.225      0.000       4.244       8.103\n",
      "DummyMulher     7.5999      1.297      5.861      0.002       4.267      10.933\n",
      "Posgrad         2.5999      0.593      4.382      0.007       1.075       4.125\n",
      "==============================================================================\n",
      "Omnibus:                        1.882   Durbin-Watson:                   1.992\n",
      "Prob(Omnibus):                  0.390   Jarque-Bera (JB):                0.666\n",
      "Skew:                           0.632   Prob(JB):                        0.717\n",
      "Kurtosis:                       2.937   Cond. No.                         87.6\n",
      "==============================================================================\n",
      "\n",
      "Notes:\n",
      "[1] Standard Errors assume that the covariance matrix of the errors is correctly specified.\n"
     ]
    },
    {
     "name": "stderr",
     "output_type": "stream",
     "text": [
      "/home/herick/git/Aplicacoes-MCRL/.venv/lib/python3.12/site-packages/scipy/stats/_axis_nan_policy.py:418: UserWarning: `kurtosistest` p-value may be inaccurate with fewer than 20 observations; only n=10 observations were given.\n",
      "  return hypotest_fun_in(*args, **kwds)\n"
     ]
    }
   ],
   "source": [
    "# Ajuste e Resultados do modelo de regressão\n",
    "fit = smf.ols('Sal ~ Exp + CursoCap + DummyMulher + Posgrad', data=df).fit()\n",
    "print(fit.summary())"
   ]
  },
  {
   "cell_type": "markdown",
   "metadata": {},
   "source": [
    "O R2 ajustado de 94,4% indica que as variáveis independentes tem têm um forte poder explicativo sobre a variável dependente.\n",
    "\n",
    "Considerando o nível de significância de 5%, pode-se rejeitar a hipótese nula do teste t para todas as variáveis. A rejeição de Ho indica que todas são significativas na explicação da variável dependente."
   ]
  },
  {
   "cell_type": "markdown",
   "metadata": {},
   "source": [
    "## Teste de multicolinearidade"
   ]
  },
  {
   "cell_type": "markdown",
   "metadata": {},
   "source": [
    "### Matriz de correlação\n",
    "\n",
    "- 0 indica ausência de correlação linear entre as variáveis.\n",
    "- 1 indica uma correlação perfeita."
   ]
  },
  {
   "cell_type": "code",
   "execution_count": 4,
   "metadata": {},
   "outputs": [
    {
     "data": {
      "image/png": "[encoded data removed]",
      "text/plain": [
       "<Figure size 600x400 with 2 Axes>"
      ]
     },
     "metadata": {},
     "output_type": "display_data"
    }
   ],
   "source": [
    "# Matriz de correlação\n",
    "correlation = df.corr()\n",
    "\n",
    "# plot da matriz de correlação\n",
    "plt.figure(figsize=(6, 4))\n",
    "plot = sn.heatmap(correlation, annot = True, fmt=\".4f\", linewidths=.1, cmap='coolwarm')\n",
    "plt.title('Matriz de correlação')\n",
    "plt.show()"
   ]
  },
  {
   "cell_type": "markdown",
   "metadata": {},
   "source": [
    "### Análise dos Fatores de Inflação das Variâncias (VIF)\n",
    "\n",
    "- VIF = 1 | Não correlacionados \n",
    "- 1 < VIF < 5 | Moderadamente correlacionados \n",
    "- VIF > 5 a 10 | Altamente correlacionados "
   ]
  },
  {
   "cell_type": "code",
   "execution_count": 5,
   "metadata": {},
   "outputs": [
    {
     "data": {
      "text/html": [
       "<div>\n",
       "<style scoped>\n",
       "    .dataframe tbody tr th:only-of-type {\n",
       "        vertical-align: middle;\n",
       "    }\n",
       "\n",
       "    .dataframe tbody tr th {\n",
       "        vertical-align: top;\n",
       "    }\n",
       "\n",
       "    .dataframe thead th {\n",
       "        text-align: right;\n",
       "    }\n",
       "</style>\n",
       "<table border=\"1\" class=\"dataframe\">\n",
       "  <thead>\n",
       "    <tr style=\"text-align: right;\">\n",
       "      <th></th>\n",
       "      <th>Variável</th>\n",
       "      <th>Fator VIF</th>\n",
       "    </tr>\n",
       "  </thead>\n",
       "  <tbody>\n",
       "    <tr>\n",
       "      <th>0</th>\n",
       "      <td>Intercept</td>\n",
       "      <td>12.4</td>\n",
       "    </tr>\n",
       "    <tr>\n",
       "      <th>1</th>\n",
       "      <td>Exp</td>\n",
       "      <td>2.5</td>\n",
       "    </tr>\n",
       "    <tr>\n",
       "      <th>2</th>\n",
       "      <td>CursoCap</td>\n",
       "      <td>3.4</td>\n",
       "    </tr>\n",
       "    <tr>\n",
       "      <th>3</th>\n",
       "      <td>DummyMulher</td>\n",
       "      <td>2.7</td>\n",
       "    </tr>\n",
       "    <tr>\n",
       "      <th>4</th>\n",
       "      <td>Posgrad</td>\n",
       "      <td>1.3</td>\n",
       "    </tr>\n",
       "  </tbody>\n",
       "</table>\n",
       "</div>"
      ],
      "text/plain": [
       "      Variável  Fator VIF\n",
       "0    Intercept       12.4\n",
       "1          Exp        2.5\n",
       "2     CursoCap        3.4\n",
       "3  DummyMulher        2.7\n",
       "4      Posgrad        1.3"
      ]
     },
     "execution_count": 5,
     "metadata": {},
     "output_type": "execute_result"
    }
   ],
   "source": [
    "# Definindo o modelo para cálculo do VIF (Variance Inflation Factors)\n",
    "\n",
    "# Ajustando a regressão para cálculo do VIF\n",
    "y, X = dmatrices('Sal ~ Exp + CursoCap + DummyMulher + Posgrad', df, return_type='dataframe')\n",
    "\n",
    "# Calculando VIF\n",
    "vif = pd.DataFrame()\n",
    "vif[\"Fator VIF\"] = [variance_inflation_factor(X.values, i) for i in range(X.shape[1])]\n",
    "vif[\"Variável\"] = X.columns\n",
    "vif = vif[['Variável', 'Fator VIF']]\n",
    "\n",
    "# Visualizar VIF Factors\n",
    "vif.round(1)"
   ]
  },
  {
   "cell_type": "markdown",
   "metadata": {},
   "source": [
    "## Teste de heterocedasticidade"
   ]
  },
  {
   "cell_type": "markdown",
   "metadata": {},
   "source": [
    "Nível de significância de 5%\n",
    "\n",
    "- Ho: o modelo é homocedástico\n",
    "- H1: o modelo é heterocedástico"
   ]
  },
  {
   "cell_type": "code",
   "execution_count": 6,
   "metadata": {},
   "outputs": [
    {
     "data": {
      "text/html": [
       "<div>\n",
       "<style scoped>\n",
       "    .dataframe tbody tr th:only-of-type {\n",
       "        vertical-align: middle;\n",
       "    }\n",
       "\n",
       "    .dataframe tbody tr th {\n",
       "        vertical-align: top;\n",
       "    }\n",
       "\n",
       "    .dataframe thead th {\n",
       "        text-align: right;\n",
       "    }\n",
       "</style>\n",
       "<table border=\"1\" class=\"dataframe\">\n",
       "  <thead>\n",
       "    <tr style=\"text-align: right;\">\n",
       "      <th></th>\n",
       "      <th>Valor</th>\n",
       "    </tr>\n",
       "  </thead>\n",
       "  <tbody>\n",
       "    <tr>\n",
       "      <th>Lagrange multiplier statistic</th>\n",
       "      <td>7.225701</td>\n",
       "    </tr>\n",
       "    <tr>\n",
       "      <th>p-value</th>\n",
       "      <td>0.124431</td>\n",
       "    </tr>\n",
       "  </tbody>\n",
       "</table>\n",
       "</div>"
      ],
      "text/plain": [
       "                                  Valor\n",
       "Lagrange multiplier statistic  7.225701\n",
       "p-value                        0.124431"
      ]
     },
     "execution_count": 6,
     "metadata": {},
     "output_type": "execute_result"
    }
   ],
   "source": [
    "# Teste Breusch-Pagan (Teste de heterocedasticidade)\n",
    "\n",
    "# Executar o Teste Breusch-Pagan\n",
    "names = ['Lagrange multiplier statistic', 'p-value']\n",
    " \n",
    "# Obter os resultados do teste\n",
    "test_result = sms.het_breuschpagan(fit.resid, fit.model.exog)\n",
    "\n",
    "result = pd.DataFrame(list(lzip(names, test_result[0:2])), columns=['Estatística', 'Valor'])\n",
    "result = result.set_index('Estatística')\n",
    "result.index.name = None\n",
    "result"
   ]
  },
  {
   "cell_type": "markdown",
   "metadata": {},
   "source": [
    "Considerando o nível de significância de 5%, não se rejeita Ho, portanto não há problema de heterocedasticidade no modelo estimado."
   ]
  },
  {
   "cell_type": "code",
   "execution_count": 10,
   "metadata": {},
   "outputs": [
    {
     "name": "stdout",
     "output_type": "stream",
     "text": [
      "Sem defasagem: (np.float64(7.116528712507057), np.float64(0.028488227242649555), 3.7020632440706067, 0.15483653604160544)\n",
      "Defasagem = 1: (np.float64(2.2249545866258282), np.float64(0.13579665004180438), 1.1446644840420312, 0.3449335492914829)\n",
      "Defasagem = 2: (np.float64(7.116528712507057), np.float64(0.028488227242649555), 3.7020632440706067, 0.15483653604160544)\n",
      "Defasagem = 3: (np.float64(7.370252415759586), np.float64(0.06098763502216598), 1.8684308866569896, 0.36726254596915)\n",
      "Defasagem = 4: (np.float64(8.482282172962549), np.float64(0.07542610473370938), 1.3972100119426962, 0.5548049237624096)\n"
     ]
    }
   ],
   "source": [
    "# Teste Breusch-Godfrey\n",
    "\n",
    "#perform Breusch-Godfrey test\n",
    "print('Sem defasagem:', dg.acorr_breusch_godfrey(fit))\n",
    "print('Defasagem = 1:', dg.acorr_breusch_godfrey(fit, nlags=1))\n",
    "print('Defasagem = 2:', dg.acorr_breusch_godfrey(fit, nlags=2))\n",
    "print('Defasagem = 3:', dg.acorr_breusch_godfrey(fit, nlags=3))\n",
    "print('Defasagem = 4:', dg.acorr_breusch_godfrey(fit, nlags=4))"
   ]
  },
  {
   "cell_type": "markdown",
   "metadata": {},
   "source": [
    "- Hipótese Nula (𝐻0): Os resíduos do modelo não possuem autocorrelação\n",
    "- Hipótese Alternativa (H1): Os resíduos do modelo possuem autocorrelação\n"
   ]
  },
  {
   "cell_type": "markdown",
   "metadata": {},
   "source": [
    "- chi2_stat: Estatística do teste Chi-quadrado.\n",
    "- p_value: Valor-p do teste de Breusch-Godfrey.\n",
    "- f_value: Estatística F para o teste.\n",
    "- f_p_value: Valor-p da estatística F."
   ]
  }
 ],
 "metadata": {
  "kernelspec": {
   "display_name": ".venv",
   "language": "python",
   "name": "python3"
  },
  "language_info": {
   "codemirror_mode": {
    "name": "ipython",
    "version": 3
   },
   "file_extension": ".py",
   "mimetype": "text/x-python",
   "name": "python",
   "nbconvert_exporter": "python",
   "pygments_lexer": "ipython3",
   "version": "3.12.3"
  }
 },
 "nbformat": 4,
 "nbformat_minor": 2
}
