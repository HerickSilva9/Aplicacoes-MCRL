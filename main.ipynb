{
 "cells": [
  {
   "cell_type": "markdown",
   "metadata": {},
   "source": [
    "# Aplicações do Modelo Clássico de Regressão Linear"
   ]
  },
  {
   "cell_type": "code",
   "execution_count": 48,
   "metadata": {},
   "outputs": [],
   "source": [
    "# Importando bibliotecas\n",
    "import pandas as pd\n",
    "import seaborn as sn\n",
    "import numpy as np\n",
    "from patsy import dmatrices\n",
    "import scipy.stats as stats\n",
    "import statsmodels.api as sm\n",
    "import matplotlib.pyplot as plt\n",
    "import statsmodels.stats.api as sms\n",
    "from statsmodels.compat import lzip\n",
    "import statsmodels.formula.api as smf\n",
    "from statsmodels.stats.stattools import durbin_watson\n",
    "import statsmodels.stats.diagnostic as dg\n",
    "from statsmodels.stats.outliers_influence import variance_inflation_factor"
   ]
  },
  {
   "cell_type": "code",
   "execution_count": 49,
   "metadata": {},
   "outputs": [
    {
     "name": "stdout",
     "output_type": "stream",
     "text": [
      "<class 'pandas.core.frame.DataFrame'>\n",
      "RangeIndex: 10 entries, 0 to 9\n",
      "Data columns (total 5 columns):\n",
      " #   Column       Non-Null Count  Dtype\n",
      "---  ------       --------------  -----\n",
      " 0   Sal          10 non-null     int8 \n",
      " 1   Exp          10 non-null     int8 \n",
      " 2   CursoCap     10 non-null     int8 \n",
      " 3   DummyMulher  10 non-null     bool \n",
      " 4   Posgrad      10 non-null     int8 \n",
      "dtypes: bool(1), int8(4)\n",
      "memory usage: 182.0 bytes\n"
     ]
    },
    {
     "data": {
      "text/html": [
       "<div>\n",
       "<style scoped>\n",
       "    .dataframe tbody tr th:only-of-type {\n",
       "        vertical-align: middle;\n",
       "    }\n",
       "\n",
       "    .dataframe tbody tr th {\n",
       "        vertical-align: top;\n",
       "    }\n",
       "\n",
       "    .dataframe thead th {\n",
       "        text-align: right;\n",
       "    }\n",
       "</style>\n",
       "<table border=\"1\" class=\"dataframe\">\n",
       "  <thead>\n",
       "    <tr style=\"text-align: right;\">\n",
       "      <th></th>\n",
       "      <th>Sal</th>\n",
       "      <th>Exp</th>\n",
       "      <th>CursoCap</th>\n",
       "      <th>DummyMulher</th>\n",
       "      <th>Posgrad</th>\n",
       "    </tr>\n",
       "  </thead>\n",
       "  <tbody>\n",
       "    <tr>\n",
       "      <th>0</th>\n",
       "      <td>15</td>\n",
       "      <td>8</td>\n",
       "      <td>0</td>\n",
       "      <td>False</td>\n",
       "      <td>1</td>\n",
       "    </tr>\n",
       "    <tr>\n",
       "      <th>1</th>\n",
       "      <td>20</td>\n",
       "      <td>6</td>\n",
       "      <td>1</td>\n",
       "      <td>False</td>\n",
       "      <td>2</td>\n",
       "    </tr>\n",
       "    <tr>\n",
       "      <th>2</th>\n",
       "      <td>20</td>\n",
       "      <td>15</td>\n",
       "      <td>0</td>\n",
       "      <td>False</td>\n",
       "      <td>2</td>\n",
       "    </tr>\n",
       "    <tr>\n",
       "      <th>3</th>\n",
       "      <td>40</td>\n",
       "      <td>20</td>\n",
       "      <td>1</td>\n",
       "      <td>True</td>\n",
       "      <td>3</td>\n",
       "    </tr>\n",
       "    <tr>\n",
       "      <th>4</th>\n",
       "      <td>50</td>\n",
       "      <td>25</td>\n",
       "      <td>2</td>\n",
       "      <td>True</td>\n",
       "      <td>3</td>\n",
       "    </tr>\n",
       "    <tr>\n",
       "      <th>5</th>\n",
       "      <td>25</td>\n",
       "      <td>11</td>\n",
       "      <td>1</td>\n",
       "      <td>False</td>\n",
       "      <td>2</td>\n",
       "    </tr>\n",
       "    <tr>\n",
       "      <th>6</th>\n",
       "      <td>10</td>\n",
       "      <td>5</td>\n",
       "      <td>0</td>\n",
       "      <td>False</td>\n",
       "      <td>1</td>\n",
       "    </tr>\n",
       "    <tr>\n",
       "      <th>7</th>\n",
       "      <td>55</td>\n",
       "      <td>32</td>\n",
       "      <td>3</td>\n",
       "      <td>True</td>\n",
       "      <td>1</td>\n",
       "    </tr>\n",
       "    <tr>\n",
       "      <th>8</th>\n",
       "      <td>35</td>\n",
       "      <td>28</td>\n",
       "      <td>1</td>\n",
       "      <td>False</td>\n",
       "      <td>2</td>\n",
       "    </tr>\n",
       "    <tr>\n",
       "      <th>9</th>\n",
       "      <td>30</td>\n",
       "      <td>20</td>\n",
       "      <td>1</td>\n",
       "      <td>False</td>\n",
       "      <td>2</td>\n",
       "    </tr>\n",
       "  </tbody>\n",
       "</table>\n",
       "</div>"
      ],
      "text/plain": [
       "   Sal  Exp  CursoCap  DummyMulher  Posgrad\n",
       "0   15    8         0        False        1\n",
       "1   20    6         1        False        2\n",
       "2   20   15         0        False        2\n",
       "3   40   20         1         True        3\n",
       "4   50   25         2         True        3\n",
       "5   25   11         1        False        2\n",
       "6   10    5         0        False        1\n",
       "7   55   32         3         True        1\n",
       "8   35   28         1        False        2\n",
       "9   30   20         1        False        2"
      ]
     },
     "execution_count": 49,
     "metadata": {},
     "output_type": "execute_result"
    }
   ],
   "source": [
    "# Leitura e definição de tipos da base de dados\n",
    "df = pd.read_stata('salario_stata11.dta')\n",
    "\n",
    "# Convertendo tipos e visualizando dados\n",
    "df = df.astype({\n",
    "    'Sal':          'int8',\n",
    "    'Exp':          'int8',\n",
    "    'CursoCap':     'int8',\n",
    "    'DummyMulher':  'bool',\n",
    "    'Posgrad':      'int8'\n",
    "})\n",
    "df.info()\n",
    "df"
   ]
  },
  {
   "cell_type": "markdown",
   "metadata": {},
   "source": [
    "## Análise exploratória"
   ]
  },
  {
   "cell_type": "code",
   "execution_count": 50,
   "metadata": {},
   "outputs": [
    {
     "data": {
      "text/html": [
       "<div>\n",
       "<style scoped>\n",
       "    .dataframe tbody tr th:only-of-type {\n",
       "        vertical-align: middle;\n",
       "    }\n",
       "\n",
       "    .dataframe tbody tr th {\n",
       "        vertical-align: top;\n",
       "    }\n",
       "\n",
       "    .dataframe thead th {\n",
       "        text-align: right;\n",
       "    }\n",
       "</style>\n",
       "<table border=\"1\" class=\"dataframe\">\n",
       "  <thead>\n",
       "    <tr style=\"text-align: right;\">\n",
       "      <th></th>\n",
       "      <th>Sal</th>\n",
       "      <th>Exp</th>\n",
       "      <th>CursoCap</th>\n",
       "      <th>Posgrad</th>\n",
       "    </tr>\n",
       "  </thead>\n",
       "  <tbody>\n",
       "    <tr>\n",
       "      <th>count</th>\n",
       "      <td>10.00</td>\n",
       "      <td>10.00</td>\n",
       "      <td>10.00</td>\n",
       "      <td>10.00</td>\n",
       "    </tr>\n",
       "    <tr>\n",
       "      <th>mean</th>\n",
       "      <td>30.00</td>\n",
       "      <td>17.00</td>\n",
       "      <td>1.00</td>\n",
       "      <td>1.90</td>\n",
       "    </tr>\n",
       "    <tr>\n",
       "      <th>std</th>\n",
       "      <td>14.91</td>\n",
       "      <td>9.51</td>\n",
       "      <td>0.94</td>\n",
       "      <td>0.74</td>\n",
       "    </tr>\n",
       "    <tr>\n",
       "      <th>min</th>\n",
       "      <td>10.00</td>\n",
       "      <td>5.00</td>\n",
       "      <td>0.00</td>\n",
       "      <td>1.00</td>\n",
       "    </tr>\n",
       "    <tr>\n",
       "      <th>25%</th>\n",
       "      <td>20.00</td>\n",
       "      <td>8.75</td>\n",
       "      <td>0.25</td>\n",
       "      <td>1.25</td>\n",
       "    </tr>\n",
       "    <tr>\n",
       "      <th>50%</th>\n",
       "      <td>27.50</td>\n",
       "      <td>17.50</td>\n",
       "      <td>1.00</td>\n",
       "      <td>2.00</td>\n",
       "    </tr>\n",
       "    <tr>\n",
       "      <th>75%</th>\n",
       "      <td>38.75</td>\n",
       "      <td>23.75</td>\n",
       "      <td>1.00</td>\n",
       "      <td>2.00</td>\n",
       "    </tr>\n",
       "    <tr>\n",
       "      <th>max</th>\n",
       "      <td>55.00</td>\n",
       "      <td>32.00</td>\n",
       "      <td>3.00</td>\n",
       "      <td>3.00</td>\n",
       "    </tr>\n",
       "  </tbody>\n",
       "</table>\n",
       "</div>"
      ],
      "text/plain": [
       "         Sal    Exp  CursoCap  Posgrad\n",
       "count  10.00  10.00     10.00    10.00\n",
       "mean   30.00  17.00      1.00     1.90\n",
       "std    14.91   9.51      0.94     0.74\n",
       "min    10.00   5.00      0.00     1.00\n",
       "25%    20.00   8.75      0.25     1.25\n",
       "50%    27.50  17.50      1.00     2.00\n",
       "75%    38.75  23.75      1.00     2.00\n",
       "max    55.00  32.00      3.00     3.00"
      ]
     },
     "metadata": {},
     "output_type": "display_data"
    },
    {
     "name": "stdout",
     "output_type": "stream",
     "text": [
      "====================\n"
     ]
    },
    {
     "data": {
      "text/html": [
       "<div>\n",
       "<style scoped>\n",
       "    .dataframe tbody tr th:only-of-type {\n",
       "        vertical-align: middle;\n",
       "    }\n",
       "\n",
       "    .dataframe tbody tr th {\n",
       "        vertical-align: top;\n",
       "    }\n",
       "\n",
       "    .dataframe thead th {\n",
       "        text-align: right;\n",
       "    }\n",
       "</style>\n",
       "<table border=\"1\" class=\"dataframe\">\n",
       "  <thead>\n",
       "    <tr style=\"text-align: right;\">\n",
       "      <th></th>\n",
       "      <th>DummyMulher</th>\n",
       "    </tr>\n",
       "  </thead>\n",
       "  <tbody>\n",
       "    <tr>\n",
       "      <th>count</th>\n",
       "      <td>10</td>\n",
       "    </tr>\n",
       "    <tr>\n",
       "      <th>unique</th>\n",
       "      <td>2</td>\n",
       "    </tr>\n",
       "    <tr>\n",
       "      <th>top</th>\n",
       "      <td>False</td>\n",
       "    </tr>\n",
       "    <tr>\n",
       "      <th>freq</th>\n",
       "      <td>7</td>\n",
       "    </tr>\n",
       "  </tbody>\n",
       "</table>\n",
       "</div>"
      ],
      "text/plain": [
       "       DummyMulher\n",
       "count           10\n",
       "unique           2\n",
       "top          False\n",
       "freq             7"
      ]
     },
     "metadata": {},
     "output_type": "display_data"
    }
   ],
   "source": [
    "# Estatísticas descritivas\n",
    "describe_int8 = df.describe(include='int8')\n",
    "rounded_df = describe_int8.round(2)\n",
    "describe_dummy = df.describe(include='bool')\n",
    "\n",
    "display(rounded_df)\n",
    "print('====================')\n",
    "display(describe_dummy)"
   ]
  },
  {
   "cell_type": "markdown",
   "metadata": {},
   "source": [
    "- 0 = False = Homem\n",
    "- 1 = True  = Mulher"
   ]
  },
  {
   "cell_type": "code",
   "execution_count": 51,
   "metadata": {},
   "outputs": [
    {
     "data": {
      "image/png": "[encoded data removed]",
      "text/plain": [
       "<Figure size 700x500 with 4 Axes>"
      ]
     },
     "metadata": {},
     "output_type": "display_data"
    }
   ],
   "source": [
    "# Histograma\n",
    "hist = df.hist(column=['Sal', 'Exp', 'CursoCap', 'Posgrad'], figsize=(7,5))"
   ]
  },
  {
   "cell_type": "code",
   "execution_count": 52,
   "metadata": {},
   "outputs": [
    {
     "data": {
      "image/png": "[encoded data removed]",
      "text/plain": [
       "<Figure size 640x480 with 2 Axes>"
      ]
     },
     "metadata": {},
     "output_type": "display_data"
    }
   ],
   "source": [
    "# Boxplot\n",
    "\n",
    "# Criar subplots para colunas\n",
    "fig, axes = plt.subplots(1, 2)\n",
    "\n",
    "# Primeiro boxplot\n",
    "axes[0].boxplot(df[['Sal', 'Exp']])\n",
    "axes[0].set_title('Boxplot 1')\n",
    "axes[0].set_xticks([1, 2])\n",
    "axes[0].set_xticklabels(['Sal', 'Exp'])\n",
    "\n",
    "# Segundo boxplot\n",
    "axes[1].boxplot(df[['CursoCap', 'Posgrad']])\n",
    "axes[1].set_title('Boxplot 2')\n",
    "axes[1].set_xticks([1, 2])\n",
    "axes[1].set_xticklabels(['CursoCap', 'Posgrad'])\n",
    "\n",
    "plt.tight_layout()\n",
    "plt.show()"
   ]
  },
  {
   "cell_type": "markdown",
   "metadata": {},
   "source": [
    "## Modelo de regressão"
   ]
  },
  {
   "cell_type": "code",
   "execution_count": 53,
   "metadata": {},
   "outputs": [
    {
     "name": "stdout",
     "output_type": "stream",
     "text": [
      "                            OLS Regression Results                            \n",
      "==============================================================================\n",
      "Dep. Variable:                    Sal   R-squared:                       0.997\n",
      "Model:                            OLS   Adj. R-squared:                  0.994\n",
      "Method:                 Least Squares   F-statistic:                     374.9\n",
      "Date:                Tue, 19 Nov 2024   Prob (F-statistic):           2.22e-06\n",
      "Time:                        23:42:36   Log-Likelihood:                -12.146\n",
      "No. Observations:                  10   AIC:                             34.29\n",
      "Df Residuals:                       5   BIC:                             35.81\n",
      "Df Model:                           4                                         \n",
      "Covariance Type:            nonrobust                                         \n",
      "=======================================================================================\n",
      "                          coef    std err          t      P>|t|      [0.025      0.975]\n",
      "---------------------------------------------------------------------------------------\n",
      "Intercept               5.3996      1.282      4.211      0.008       2.103       8.696\n",
      "DummyMulher[T.True]     7.5999      1.297      5.861      0.002       4.267      10.933\n",
      "Exp                     0.6593      0.064     10.361      0.000       0.496       0.823\n",
      "CursoCap                6.1732      0.751      8.225      0.000       4.244       8.103\n",
      "Posgrad                 2.5999      0.593      4.382      0.007       1.075       4.125\n",
      "==============================================================================\n",
      "Omnibus:                        1.882   Durbin-Watson:                   1.992\n",
      "Prob(Omnibus):                  0.390   Jarque-Bera (JB):                0.666\n",
      "Skew:                           0.632   Prob(JB):                        0.717\n",
      "Kurtosis:                       2.937   Cond. No.                         87.6\n",
      "==============================================================================\n",
      "\n",
      "Notes:\n",
      "[1] Standard Errors assume that the covariance matrix of the errors is correctly specified.\n"
     ]
    },
    {
     "name": "stderr",
     "output_type": "stream",
     "text": [
      "/home/herick/git/Aplicacoes-MCRL/.venv/lib/python3.12/site-packages/scipy/stats/_axis_nan_policy.py:418: UserWarning: `kurtosistest` p-value may be inaccurate with fewer than 20 observations; only n=10 observations were given.\n",
      "  return hypotest_fun_in(*args, **kwds)\n"
     ]
    }
   ],
   "source": [
    "# Ajuste e Resultados do modelo de regressão\n",
    "fit = smf.ols('Sal ~ Exp + CursoCap + DummyMulher + Posgrad', data=df).fit()\n",
    "print(fit.summary())"
   ]
  },
  {
   "cell_type": "markdown",
   "metadata": {},
   "source": [
    "O R2 ajustado de 94,4% indica que as variáveis independentes tem têm um forte poder explicativo sobre a variável dependente.\n",
    "\n",
    "Considerando o nível de significância de 5%, pode-se rejeitar a hipótese nula do teste t para todas as variáveis. A rejeição de Ho indica que todas são significativas na explicação da variável dependente."
   ]
  },
  {
   "cell_type": "markdown",
   "metadata": {},
   "source": [
    "## Teste de multicolinearidade"
   ]
  },
  {
   "cell_type": "markdown",
   "metadata": {},
   "source": [
    "### Matriz de correlação\n",
    "\n",
    "- 0 indica ausência de correlação linear entre as variáveis.\n",
    "- 1 indica uma correlação perfeita."
   ]
  },
  {
   "cell_type": "code",
   "execution_count": 54,
   "metadata": {},
   "outputs": [
    {
     "data": {
      "image/png": "[encoded data removed]",
      "text/plain": [
       "<Figure size 600x400 with 2 Axes>"
      ]
     },
     "metadata": {},
     "output_type": "display_data"
    }
   ],
   "source": [
    "# Matriz de correlação\n",
    "correlation = df.corr()\n",
    "\n",
    "# plot da matriz de correlação\n",
    "plt.figure(figsize=(6, 4))\n",
    "plot = sn.heatmap(correlation, annot = True, fmt=\".4f\", linewidths=.1, cmap='coolwarm')\n",
    "plt.title('Matriz de correlação')\n",
    "plt.show()"
   ]
  },
  {
   "cell_type": "markdown",
   "metadata": {},
   "source": [
    "### Análise dos Fatores de Inflação das Variâncias (VIF)\n",
    "\n",
    "- VIF = 1 | Não correlacionados \n",
    "- 1 < VIF < 5 | Moderadamente correlacionados \n",
    "- VIF > 5 a 10 | Altamente correlacionados "
   ]
  },
  {
   "cell_type": "code",
   "execution_count": 55,
   "metadata": {},
   "outputs": [
    {
     "data": {
      "text/html": [
       "<div>\n",
       "<style scoped>\n",
       "    .dataframe tbody tr th:only-of-type {\n",
       "        vertical-align: middle;\n",
       "    }\n",
       "\n",
       "    .dataframe tbody tr th {\n",
       "        vertical-align: top;\n",
       "    }\n",
       "\n",
       "    .dataframe thead th {\n",
       "        text-align: right;\n",
       "    }\n",
       "</style>\n",
       "<table border=\"1\" class=\"dataframe\">\n",
       "  <thead>\n",
       "    <tr style=\"text-align: right;\">\n",
       "      <th></th>\n",
       "      <th>Variável</th>\n",
       "      <th>Fator VIF</th>\n",
       "    </tr>\n",
       "  </thead>\n",
       "  <tbody>\n",
       "    <tr>\n",
       "      <th>0</th>\n",
       "      <td>Intercept</td>\n",
       "      <td>12.4</td>\n",
       "    </tr>\n",
       "    <tr>\n",
       "      <th>1</th>\n",
       "      <td>DummyMulher[T.True]</td>\n",
       "      <td>2.7</td>\n",
       "    </tr>\n",
       "    <tr>\n",
       "      <th>2</th>\n",
       "      <td>Exp</td>\n",
       "      <td>2.5</td>\n",
       "    </tr>\n",
       "    <tr>\n",
       "      <th>3</th>\n",
       "      <td>CursoCap</td>\n",
       "      <td>3.4</td>\n",
       "    </tr>\n",
       "    <tr>\n",
       "      <th>4</th>\n",
       "      <td>Posgrad</td>\n",
       "      <td>1.3</td>\n",
       "    </tr>\n",
       "  </tbody>\n",
       "</table>\n",
       "</div>"
      ],
      "text/plain": [
       "              Variável  Fator VIF\n",
       "0            Intercept       12.4\n",
       "1  DummyMulher[T.True]        2.7\n",
       "2                  Exp        2.5\n",
       "3             CursoCap        3.4\n",
       "4              Posgrad        1.3"
      ]
     },
     "execution_count": 55,
     "metadata": {},
     "output_type": "execute_result"
    }
   ],
   "source": [
    "# Definindo o modelo para cálculo do VIF (Variance Inflation Factors)\n",
    "\n",
    "# Ajustando a regressão para cálculo do VIF\n",
    "y, X = dmatrices('Sal ~ Exp + CursoCap + DummyMulher + Posgrad', df, return_type='dataframe')\n",
    "\n",
    "# Calculando VIF\n",
    "vif = pd.DataFrame()\n",
    "vif[\"Fator VIF\"] = [variance_inflation_factor(X.values, i) for i in range(X.shape[1])]\n",
    "vif[\"Variável\"] = X.columns\n",
    "vif = vif[['Variável', 'Fator VIF']]\n",
    "\n",
    "# Visualizar VIF Factors\n",
    "vif.round(1)"
   ]
  },
  {
   "cell_type": "markdown",
   "metadata": {},
   "source": [
    "## Análise dos resíduos"
   ]
  },
  {
   "cell_type": "markdown",
   "metadata": {},
   "source": [
    "Suposições primárias do Modelo de Regressão Linear \n",
    "\n",
    "1) Independência (entre os indivíduos): Gráfico de resíduos x indivíduo + Durbin-Watson \n",
    "\n",
    "2) Linearidade: Gráfico de resíduos x ^y \n",
    "\n",
    "3) Normalidade dos resíduos: QQ-plot + Shapiro-Wilk \n",
    "\n",
    "4) Homoscedasticidade dos resíduos: Gráfico de escala_locação + Breusch-Pagan"
   ]
  },
  {
   "cell_type": "markdown",
   "metadata": {},
   "source": [
    "### Pressuposto da independência"
   ]
  },
  {
   "cell_type": "code",
   "execution_count": 56,
   "metadata": {},
   "outputs": [
    {
     "name": "stdout",
     "output_type": "stream",
     "text": [
      "Estatística Durbin-Watson:  1.992\n"
     ]
    }
   ],
   "source": [
    "# Executando teste Durbin-Watson\n",
    "print('Estatística Durbin-Watson: ', round(durbin_watson(fit.resid), 3))"
   ]
  },
  {
   "cell_type": "markdown",
   "metadata": {},
   "source": [
    "### Pressuposto da Linearidade"
   ]
  },
  {
   "cell_type": "code",
   "execution_count": 57,
   "metadata": {},
   "outputs": [],
   "source": [
    "# Linearidade\n"
   ]
  },
  {
   "cell_type": "markdown",
   "metadata": {},
   "source": [
    "### Pressuposto da Normalidade dos resíduos"
   ]
  },
  {
   "cell_type": "code",
   "execution_count": 58,
   "metadata": {},
   "outputs": [
    {
     "name": "stdout",
     "output_type": "stream",
     "text": [
      "O valor da estatística de Shapiro-Wilk é:  0.9531151206364865\n",
      "O p-valor do teste de Shapiro-Wilk é:  0.7054131178221256\n"
     ]
    }
   ],
   "source": [
    "# Normalidade dos Resíduos\n",
    "\n",
    "# Teste de Shapiro-Wilk\n",
    "shapiro_stat, shapiro_p_value = stats.shapiro(df['Sal'])\n",
    "print('O valor da estatística de Shapiro-Wilk é: ', shapiro_stat)\n",
    "print('O p-valor do teste de Shapiro-Wilk é: ', shapiro_p_value)"
   ]
  },
  {
   "cell_type": "markdown",
   "metadata": {},
   "source": [
    "### Pressuposto da Homocedasticidade"
   ]
  },
  {
   "cell_type": "markdown",
   "metadata": {},
   "source": [
    "Nível de significância de 5%\n",
    "\n",
    "- Ho: o modelo é homocedástico\n",
    "- H1: o modelo é heterocedástico"
   ]
  },
  {
   "cell_type": "code",
   "execution_count": 59,
   "metadata": {},
   "outputs": [
    {
     "data": {
      "text/html": [
       "<div>\n",
       "<style scoped>\n",
       "    .dataframe tbody tr th:only-of-type {\n",
       "        vertical-align: middle;\n",
       "    }\n",
       "\n",
       "    .dataframe tbody tr th {\n",
       "        vertical-align: top;\n",
       "    }\n",
       "\n",
       "    .dataframe thead th {\n",
       "        text-align: right;\n",
       "    }\n",
       "</style>\n",
       "<table border=\"1\" class=\"dataframe\">\n",
       "  <thead>\n",
       "    <tr style=\"text-align: right;\">\n",
       "      <th></th>\n",
       "      <th>Valor</th>\n",
       "    </tr>\n",
       "  </thead>\n",
       "  <tbody>\n",
       "    <tr>\n",
       "      <th>Lagrange multiplier statistic</th>\n",
       "      <td>7.225701</td>\n",
       "    </tr>\n",
       "    <tr>\n",
       "      <th>p-value</th>\n",
       "      <td>0.124431</td>\n",
       "    </tr>\n",
       "  </tbody>\n",
       "</table>\n",
       "</div>"
      ],
      "text/plain": [
       "                                  Valor\n",
       "Lagrange multiplier statistic  7.225701\n",
       "p-value                        0.124431"
      ]
     },
     "execution_count": 59,
     "metadata": {},
     "output_type": "execute_result"
    }
   ],
   "source": [
    "# Teste Breusch-Pagan (Teste de heterocedasticidade)\n",
    "\n",
    "# Executar o Teste Breusch-Pagan\n",
    "names = ['Lagrange multiplier statistic', 'p-value']\n",
    " \n",
    "# Obter os resultados do teste\n",
    "test_result = sms.het_breuschpagan(fit.resid, fit.model.exog)\n",
    "\n",
    "result = pd.DataFrame(list(lzip(names, test_result[0:2])), columns=['Estatística', 'Valor'])\n",
    "result = result.set_index('Estatística')\n",
    "result.index.name = None\n",
    "result"
   ]
  },
  {
   "cell_type": "markdown",
   "metadata": {},
   "source": [
    "Considerando o nível de significância de 5%, não se rejeita Ho, portanto não há problema de heterocedasticidade no modelo estimado."
   ]
  }
 ],
 "metadata": {
  "kernelspec": {
   "display_name": ".venv",
   "language": "python",
   "name": "python3"
  },
  "language_info": {
   "codemirror_mode": {
    "name": "ipython",
    "version": 3
   },
   "file_extension": ".py",
   "mimetype": "text/x-python",
   "name": "python",
   "nbconvert_exporter": "python",
   "pygments_lexer": "ipython3",
   "version": "3.12.3"
  }
 },
 "nbformat": 4,
 "nbformat_minor": 2
}
